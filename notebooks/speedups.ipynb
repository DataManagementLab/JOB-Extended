{
 "cells": [
  {
   "cell_type": "code",
   "id": "initial_id",
   "metadata": {
    "collapsed": true,
    "ExecuteTime": {
     "end_time": "2025-06-05T08:57:49.467504Z",
     "start_time": "2025-06-05T08:57:01.643148Z"
    }
   },
   "source": [
    "# ==== this should not be necessary - bug?\n",
    "import sys\n",
    "\n",
    "from dotenv import load_dotenv\n",
    "from ldb_schema.paths import LocalPaths\n",
    "\n",
    "sys.path.append('/home/johannes/ldb/ldb_wlexecutor/src/ldb_wlexecutor/analysis/benchmarks')\n",
    "# ====\n",
    "\n",
    "from dotenv import load_dotenv\n",
    "\n",
    "load_dotenv()\n",
    "from helper import preprocess_runs\n",
    "\n",
    "path_name_dict = {\n",
    "    # 'job': 'imdb_scaled1/benchmark_optimum_runs/job_full_w_optimal.json',\n",
    "    'JOB-Light': 'imdb_scaled1/benchmark_optimum_runs/job_light_w_optimal_w_idxs.json',\n",
    "    # 'job_w_idxs': 'imdb_scaled1/benchmark_optimum_runs/job_full_w_optimal_w_idxs.json',\n",
    "    'JOB': 'imdb_scaled1/join_order_job_w_idxs_combined.json',\n",
    "    # 'job_extended_w_idxs': 'imdb_scaled1/benchmark_optimum_runs/job_extended_v20250426_w_optimal_w_idxs.json',\n",
    "    # 'job_extended_w_idxs_combined': 'imdb_scaled1/join_order_JOBExtended_v20250426._combined.json',\n",
    "    # 'job_extended2_w_idxs': 'imdb_scaled1/benchmark_optimum_runs/job_extended_v20250509_w_optimal_w_idxs.json',\n",
    "    # 'JOB-Extended.old': 'imdb_scaled1/JOBExtended_selection1.old.json',\n",
    "    'JOB-Extended': 'imdb_scaled1/JOBExtended_selection1.json',\n",
    "    'JOB-Extended (b)': 'imdb_scaled1/JOBExtended_selection1b.json',\n",
    "}\n",
    "benchmark_stats_dict = preprocess_runs(LocalPaths().Data.json_plans,path_name_dict)"
   ],
   "outputs": [
    {
     "name": "stdout",
     "output_type": "stream",
     "text": [
      "Loading run files from /mnt/c/PhD/ldb/ldb_data/runs/json\n",
      "Benchmark: JOB-Light (140 plans)\n"
     ]
    },
    {
     "name": "stderr",
     "output_type": "stream",
     "text": [
      "Cleaning SQL: 100%|██████████| 140/140 [00:00<00:00, 197711.30it/s]\n"
     ]
    },
    {
     "name": "stdout",
     "output_type": "stream",
     "text": [
      "Benchmark: JOB (37085 plans)\n"
     ]
    },
    {
     "name": "stderr",
     "output_type": "stream",
     "text": [
      "Cleaning SQL: 100%|██████████| 37085/37085 [00:00<00:00, 178793.37it/s]\n"
     ]
    },
    {
     "name": "stdout",
     "output_type": "stream",
     "text": [
      "Benchmark: JOB-Extended (15805 plans)\n"
     ]
    },
    {
     "name": "stderr",
     "output_type": "stream",
     "text": [
      "Cleaning SQL: 100%|██████████| 15805/15805 [00:00<00:00, 321174.09it/s]\n"
     ]
    },
    {
     "name": "stdout",
     "output_type": "stream",
     "text": [
      "Benchmark: JOB-Extended (b) (15805 plans)\n"
     ]
    },
    {
     "name": "stderr",
     "output_type": "stream",
     "text": [
      "Cleaning SQL: 100%|██████████| 15805/15805 [00:00<00:00, 240659.91it/s]\n"
     ]
    }
   ],
   "execution_count": 11
  },
  {
   "metadata": {},
   "cell_type": "markdown",
   "source": "# Speedup Analysis: Postgres vs. Optimum",
   "id": "9db1d34fa2232d32"
  },
  {
   "metadata": {
    "ExecuteTime": {
     "end_time": "2025-06-05T08:57:55.496348Z",
     "start_time": "2025-06-05T08:57:49.631090Z"
    }
   },
   "cell_type": "code",
   "source": [
    "import pandas as pd\n",
    "import numpy as np\n",
    "import matplotlib.pyplot as plt\n",
    "from collections import defaultdict\n",
    "\n",
    "\n",
    "def create_runtime_plot(df, benchmark_name: str, max=None, ax=None, show_legend=True, bbox_to_anchor=None):\n",
    "    opt_runtimes = df['optimal']\n",
    "    pg_runtimes = df['pg']\n",
    "    q_ids = df['q_id']\n",
    "\n",
    "    if ax is None:\n",
    "        fig, ax = plt.subplots(1, 1, figsize=(8, 4))\n",
    "\n",
    "    sorted_opt_runtimes = sorted(opt_runtimes, reverse=True)\n",
    "    sorted_pg_runtimes = [x for _, x in sorted(zip(opt_runtimes, pg_runtimes), reverse=True)]\n",
    "    sorted_qids = [str(x) for _, x in sorted(zip(opt_runtimes, q_ids), reverse=True)]\n",
    "\n",
    "    ax.bar(sorted_qids, sorted_pg_runtimes, label='PG Runtimes', width=1)\n",
    "    ax.bar(sorted_qids, sorted_opt_runtimes, label='Opt Runtimes', alpha=0.8, width=1)\n",
    "    # plt.title(f'Opt / PG Runtimes ({benchmark_name})')\n",
    "    if show_legend:\n",
    "        ax.legend(frameon=False, loc='upper right', bbox_to_anchor=bbox_to_anchor, ncols=2)\n",
    "\n",
    "    ax.set_title(f'{benchmark_name}', fontsize=10)\n",
    "    # ax.set_xlabel(f'{len(sorted_pg_runtimes)} {benchmark_name} Queries')\n",
    "    ax.set_ylabel('Runtime (s)')\n",
    "    # plt.yscale('log')\n",
    "\n",
    "    # hide xtick labels\n",
    "    ax.set_xticks([])\n",
    "\n",
    "    # if benchmark_name == 'job_extended_w_idxs' and max is None:\n",
    "    #     max = 100\n",
    "\n",
    "    if max is not None:\n",
    "        ax.set_ylim(0, max)\n",
    "\n",
    "\n",
    "fig, axs = plt.subplots(len(benchmark_stats_dict), 1, figsize=(6, 1.75 * len(benchmark_stats_dict)))\n",
    "\n",
    "cleanup_pg_opt_mismatch = True\n",
    "\n",
    "tabulate_list = []\n",
    "id_to_sql_dict = defaultdict(dict)\n",
    "for i, (benchmark_name, info) in enumerate(benchmark_stats_dict.items()):\n",
    "    optimal_runtimes = []\n",
    "    pg_runtimes = []\n",
    "    q_ids = []\n",
    "    speedup_list = []\n",
    "    diff_list = []\n",
    "    pg_best_plan_selected = []\n",
    "\n",
    "    for id, (sql, plan_info) in enumerate(info.items()):\n",
    "        opt_rt = plan_info['opt_runtime']\n",
    "        pg_rt = plan_info['pg_runtime']\n",
    "\n",
    "        if opt_rt is None or pg_rt is None:\n",
    "            print(f'Skip because of null: {opt_rt} / {pg_rt}')\n",
    "            continue\n",
    "\n",
    "        # convert to seconds\n",
    "        opt_rt = opt_rt / 1000\n",
    "        pg_rt = pg_rt / 1000\n",
    "\n",
    "        if cleanup_pg_opt_mismatch and opt_rt > pg_rt:\n",
    "            opt_rt = pg_rt\n",
    "\n",
    "        q_ids.append(id)\n",
    "        optimal_runtimes.append(opt_rt)\n",
    "        pg_runtimes.append(pg_rt)\n",
    "        id_to_sql_dict[benchmark_name][id] = (sql, opt_rt, pg_rt, plan_info['opt_hint'])\n",
    "\n",
    "        speedup_list.append(plan_info['pg_slowdown'])\n",
    "        diff_list.append(plan_info['pg_opt_diff'])\n",
    "\n",
    "        pg_best_plan_selected.append(opt_rt == pg_rt)\n",
    "\n",
    "    # convert to df (two columns)\n",
    "    df = pd.DataFrame({'optimal': optimal_runtimes, 'pg': pg_runtimes, 'q_id': q_ids,\n",
    "                       'speedup': speedup_list, 'diff': diff_list})\n",
    "    print(len(optimal_runtimes))\n",
    "\n",
    "    # add to list\n",
    "    tabulate_list.append([benchmark_name, len(info), f\"{sum(df['optimal']):.2f}\", f\"{sum(df['pg']):.2f}\",\n",
    "                          f\"{sum(df['pg']) / sum(df['optimal']):.2f}\", f\"{np.median(df['speedup'])}\",\n",
    "                          f\"{np.median(df['diff']):.2f}\",\n",
    "                          f'{sum(pg_best_plan_selected) / len(pg_best_plan_selected) * 100:.2f}',\n",
    "                          np.percentile(df['speedup'], 90)])\n",
    "\n",
    "    create_runtime_plot(df, benchmark_name=benchmark_name, max=None, ax=axs[i], show_legend=i == 2,\n",
    "                        bbox_to_anchor=(0.85, -.09))\n",
    "\n",
    "import tabulate\n",
    "\n",
    "print(tabulate.tabulate(tabulate_list,\n",
    "                        headers=['Benchmark', 'Num Queries', 'Total Opt Runtime (s)', 'Total PG Runtime (s)',\n",
    "                                 'Total Speedup', 'Median Speedup', 'Median Diff (s)', 'PG Best Plan Selected (%)',\n",
    "                                 'Speedup 90th percentile'])) \\\n",
    " \\\n",
    "# save figure\n",
    "plt.savefig('/mnt/c/Users/Johannes/Downloads/speedups.pdf', bbox_inches='tight', dpi=300, transparent=False)\n"
   ],
   "id": "ee2ace1822aa356e",
   "outputs": [
    {
     "name": "stdout",
     "output_type": "stream",
     "text": [
      "70\n",
      "113\n",
      "30\n",
      "30\n",
      "Benchmark           Num Queries    Total Opt Runtime (s)    Total PG Runtime (s)    Total Speedup    Median Speedup    Median Diff (s)    PG Best Plan Selected (%)    Speedup 90th percentile\n",
      "----------------  -------------  -----------------------  ----------------------  ---------------  ----------------  -----------------  ---------------------------  -------------------------\n",
      "JOB-Light                    70                  2359.72                 2795.53             1.18           1.00208               0.51                        40                       1.45408\n",
      "JOB                         113                   156.79                  312.23             1.99           1.28699              88                            8.85                    5.11035\n",
      "JOB-Extended                 30                    54.17                  567.01            10.47           8.50421           10654.2                          0                      83.6684\n",
      "JOB-Extended (b)             30                    54.17                  567.01            10.47           8.50421           10654.2                          0                      83.6684\n"
     ]
    },
    {
     "data": {
      "text/plain": [
       "<Figure size 600x700 with 4 Axes>"
      ],
      "image/png": "[encoded data removed]"
     },
     "metadata": {},
     "output_type": "display_data"
    }
   ],
   "execution_count": 12
  },
  {
   "metadata": {
    "ExecuteTime": {
     "end_time": "2025-06-05T08:57:55.540104Z",
     "start_time": "2025-06-05T08:57:55.517017Z"
    }
   },
   "cell_type": "code",
   "source": "id_to_sql_dict['job_extended_w_idxs'][83]",
   "id": "88bd633f31a2a8d9",
   "outputs": [
    {
     "ename": "KeyError",
     "evalue": "83",
     "output_type": "error",
     "traceback": [
      "\u001B[0;31m---------------------------------------------------------------------------\u001B[0m",
      "\u001B[0;31mKeyError\u001B[0m                                  Traceback (most recent call last)",
      "Cell \u001B[0;32mIn[13], line 1\u001B[0m\n\u001B[0;32m----> 1\u001B[0m \u001B[43mid_to_sql_dict\u001B[49m\u001B[43m[\u001B[49m\u001B[38;5;124;43m'\u001B[39;49m\u001B[38;5;124;43mjob_extended_w_idxs\u001B[39;49m\u001B[38;5;124;43m'\u001B[39;49m\u001B[43m]\u001B[49m\u001B[43m[\u001B[49m\u001B[38;5;241;43m83\u001B[39;49m\u001B[43m]\u001B[49m\n",
      "\u001B[0;31mKeyError\u001B[0m: 83"
     ]
    }
   ],
   "execution_count": 13
  },
  {
   "metadata": {},
   "cell_type": "code",
   "source": [
    "sql = list(benchmark_stats_dict['job_extended_w_idxs_v2'].keys())\n",
    "\n",
    "print(len(sql))\n",
    "\n",
    "string = ''\n",
    "for s in sql:\n",
    "    string += f'{s}\\n'\n",
    "\n",
    "print(string)"
   ],
   "id": "32cb99df7b6d3939",
   "outputs": [],
   "execution_count": null
  }
 ],
 "metadata": {
  "kernelspec": {
   "display_name": "Python 3",
   "language": "python",
   "name": "python3"
  },
  "language_info": {
   "codemirror_mode": {
    "name": "ipython",
    "version": 2
   },
   "file_extension": ".py",
   "mimetype": "text/x-python",
   "name": "python",
   "nbconvert_exporter": "python",
   "pygments_lexer": "ipython2",
   "version": "2.7.6"
  }
 },
 "nbformat": 4,
 "nbformat_minor": 5
}
